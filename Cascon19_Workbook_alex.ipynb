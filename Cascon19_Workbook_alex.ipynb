{
 "cells": [
  {
   "cell_type": "markdown",
   "metadata": {},
   "source": [
    "# Transpiling Chemistry circuits with Qiskit and Pytket"
   ]
  },
  {
   "cell_type": "markdown",
   "metadata": {},
   "source": [
    "### TODO: Explain this -- First, do some chemistry with Aqua:"
   ]
  },
  {
   "cell_type": "code",
   "execution_count": 1,
   "metadata": {},
   "outputs": [],
   "source": [
    "from qiskit.chemistry import FermionicOperator\n",
    "from qiskit.chemistry.aqua_extensions.components.initial_states import HartreeFock\n",
    "from qiskit.chemistry.drivers import PySCFDriver, UnitsType\n",
    "from qiskit.chemistry.aqua_extensions.components.variational_forms import UCCSD\n",
    "import warnings\n",
    "warnings.filterwarnings(action='ignore')"
   ]
  },
  {
   "cell_type": "code",
   "execution_count": 2,
   "metadata": {},
   "outputs": [],
   "source": [
    "molecule_str = 'Li .0 .0 .0; H .0 .0 1.6'\n",
    "basis = 'sto3g'\n",
    "qubit_mapping = 'jordan_wigner'\n"
   ]
  },
  {
   "cell_type": "code",
   "execution_count": 3,
   "metadata": {
    "scrolled": true
   },
   "outputs": [
    {
     "name": "stdout",
     "output_type": "stream",
     "text": [
      "HF energy: -8.854072040283647\n",
      "# of electrons: 4\n",
      "# of spin orbitals: 12\n",
      "Representation: paulis, qubits: 12, size: 631\n"
     ]
    },
    {
     "data": {
      "text/plain": [
       "756"
      ]
     },
     "execution_count": 3,
     "metadata": {},
     "output_type": "execute_result"
    }
   ],
   "source": [
    "driver = PySCFDriver(molecule_str, unit=UnitsType.ANGSTROM,\n",
    "                     charge=0, spin=0, basis=basis)\n",
    "molecule = driver.run()\n",
    "\n",
    "map_type = 'jordan_wigner'\n",
    "\n",
    "h1 = molecule.one_body_integrals\n",
    "h2 = molecule.two_body_integrals\n",
    "nuclear_repulsion_energy = molecule.nuclear_repulsion_energy\n",
    "\n",
    "num_particles = molecule.num_alpha + molecule.num_beta\n",
    "num_spin_orbitals = molecule.num_orbitals * 2\n",
    "print(\"HF energy: {}\".format(molecule.hf_energy - molecule.nuclear_repulsion_energy))\n",
    "print(\"# of electrons: {}\".format(num_particles))\n",
    "print(\"# of spin orbitals: {}\".format(num_spin_orbitals))\n",
    "ferOp = FermionicOperator(h1=h1, h2=h2)\n",
    "qubitOp = ferOp.mapping(map_type=map_type, threshold=0.00000001)\n",
    "qubitOp.chop(10**-10)\n",
    "print(qubitOp)\n",
    "# setup HartreeFock state\n",
    "HF_state = HartreeFock(qubitOp.num_qubits, num_spin_orbitals, num_particles, map_type, \n",
    "                       False)\n",
    "\n",
    "# setup UCCSD variational form\n",
    "var_form = UCCSD(qubitOp.num_qubits, depth=1, \n",
    "                   num_orbitals=num_spin_orbitals, num_particles=num_particles, \n",
    "                   active_occupied=[0], active_unoccupied=[0, 1],\n",
    "                   initial_state=HF_state, qubit_mapping=map_type, \n",
    "                   two_qubit_reduction=False, num_time_slices=1)\n",
    "\n",
    "number_amplitudes = len(var_form._single_excitations) + len(var_form._double_excitations)\n",
    "amplitudes = [1e-4]*number_amplitudes\n",
    "circuit = var_form.construct_circuit(amplitudes)\n",
    "circuit.size()"
   ]
  },
  {
   "cell_type": "markdown",
   "metadata": {},
   "source": [
    "The circuit starts off with 756 quantum gates. This circuit is certainly too large to be feasibly run on today's quantum hardware, but by no means out of reach for near term NISQ devices. This is also small enough to easily be simulated."
   ]
  },
  {
   "cell_type": "markdown",
   "metadata": {},
   "source": [
    "### Transpilation"
   ]
  },
  {
   "cell_type": "markdown",
   "metadata": {},
   "source": [
    "To reduce the resource requirements we can try \"transpiling\" the circuit. Transpiling is graph rewriting performed to optimise the circuit, leaving it in the same data structure as before but with fewer resource requirements. This rewriting can also change the gate set and satisfy the constraints of a connectivity graph. Now, let's try optimising this circuit using the highest level of Qiskit's native transpiler."
   ]
  },
  {
   "cell_type": "code",
   "execution_count": 4,
   "metadata": {},
   "outputs": [],
   "source": [
    "from qiskit.compiler import transpile"
   ]
  },
  {
   "cell_type": "code",
   "execution_count": 5,
   "metadata": {},
   "outputs": [
    {
     "data": {
      "text/plain": [
       "536"
      ]
     },
     "execution_count": 5,
     "metadata": {},
     "output_type": "execute_result"
    }
   ],
   "source": [
    "circuit_after = transpile(circuit,basis_gates=['u3','cx'],coupling_map=None, optimization_level=3)\n",
    "circuit_after.size()"
   ]
  },
  {
   "cell_type": "markdown",
   "metadata": {},
   "source": [
    "We have reduced the gate count by 221! A respectable number."
   ]
  },
  {
   "cell_type": "markdown",
   "metadata": {},
   "source": [
    "Now, let's convert the original circuit to a pytket circuit:"
   ]
  },
  {
   "cell_type": "code",
   "execution_count": 6,
   "metadata": {},
   "outputs": [],
   "source": [
    "from pytket.qiskit import qiskit_to_tk, tk_to_qiskit\n",
    "from pytket import Circuit, OpType"
   ]
  },
  {
   "cell_type": "code",
   "execution_count": 7,
   "metadata": {},
   "outputs": [
    {
     "name": "stdout",
     "output_type": "stream",
     "text": [
      "756\n",
      "424\n"
     ]
    }
   ],
   "source": [
    "tkcirc = qiskit_to_tk(circuit)\n",
    "print(tkcirc.n_gates)\n",
    "print(tkcirc.n_gates_of_type(OpType.CX))"
   ]
  },
  {
   "cell_type": "markdown",
   "metadata": {},
   "source": [
    "You can see that the circuit in pytket format has the same number of gates as the original circuit in Qiskit format. We can also see now that the circuit has 424 CX gates in it. These two qubit gates are entangling gates, and typically have much greater error rates associated with them on all kinds of physical hardware -- around an order of magnitude worse."
   ]
  },
  {
   "cell_type": "markdown",
   "metadata": {},
   "source": [
    "Now, let's import some pytket classes. We will need the `Circuit` class, as well as the `CompilationUnit` class. This holds a `Circuit`, and also holds some information to track the compilation of the `Circuit`.\n",
    "\n",
    "We will also need the `SynthesiseIBMPass` and `PauliSimpPass` -- these are two \"StandardPasses\" which are the building blocks of the pytket transpilation process. Lastly, we need the `SequencePass`. This is a *combinator*, which combines other passes in ways ranging from the simple (sequential composition like this one) to the complex (repeat until a custom user-defined function on the `Circuit` returns true)."
   ]
  },
  {
   "cell_type": "code",
   "execution_count": 8,
   "metadata": {},
   "outputs": [],
   "source": [
    "from pytket import CompilationUnit, SynthesiseIBMPass, PauliSimpPass, SequencePass"
   ]
  },
  {
   "cell_type": "code",
   "execution_count": 9,
   "metadata": {},
   "outputs": [
    {
     "name": "stdout",
     "output_type": "stream",
     "text": [
      "***PassType: StandardPass***\n",
      "Preconditions:\n",
      "  NoClassicalControl Predicate\n",
      "Specific Postconditions:\n",
      "  GateSet Predicate:{ U1 Measure U2 U3 CX Reset }\n",
      "  MaxTwoQubitGates Predicate\n",
      "Generic Postconditions:\n",
      "Default Postcondition: Preserve\n",
      "\n"
     ]
    }
   ],
   "source": [
    "print(SynthesiseIBMPass)"
   ]
  },
  {
   "cell_type": "markdown",
   "metadata": {},
   "source": [
    "Pytket passes are made of preconditions and postconditions, which give you assertions about what requirements the `Circuit` must have for this pass to successfully run, as well as guarantees about which properties `Circuit` will have associated with it afterwards. This should be familiar to anyone who has dealt with Hoare Logic, or contracts in software development.\n",
    "\n",
    "So we can see that the `SynthesiseIBMPass` requires that the input `Circuit` has no gates with classical control on them -- this would get in the way of the rewrite rules, and prevent optimisation. It guarantees that the `Circuit` afterwards will have gates only from the gateset shown above. It also guarantees that there are no gates which act on more than two qubits at once -- although this is obvious from the previous guarantee."
   ]
  },
  {
   "cell_type": "code",
   "execution_count": 10,
   "metadata": {},
   "outputs": [
    {
     "name": "stdout",
     "output_type": "stream",
     "text": [
      "True\n",
      "482\n",
      "336\n"
     ]
    }
   ],
   "source": [
    "cu1 = CompilationUnit(tkcirc)\n",
    "print(SynthesiseIBMPass.apply(cu1))\n",
    "tkcirc_after_1 = cu1.get_circ()\n",
    "print(tkcirc_after_1.n_gates)\n",
    "print(tkcirc_after_1.n_gates_of_type(OpType.CX))"
   ]
  },
  {
   "cell_type": "markdown",
   "metadata": {},
   "source": [
    "A Pytket pass returns a `bool`, which is `True` if the pass modified the circuit at any point in its graph rewriting, and `False` otherwise. We can see that our `SynthesiseIBMPass` has reduced the total number of gates to 482. The CX count, however, has been reduced by only 88, so the errors on this circuit will not be much different from before."
   ]
  },
  {
   "cell_type": "markdown",
   "metadata": {},
   "source": [
    "Now let's instead try a pass which was designed specifically for chemistry circuits: the `PauliSimpPass`."
   ]
  },
  {
   "cell_type": "code",
   "execution_count": 11,
   "metadata": {},
   "outputs": [
    {
     "name": "stdout",
     "output_type": "stream",
     "text": [
      "True\n",
      "418\n",
      "198\n"
     ]
    }
   ],
   "source": [
    "cu2 = CompilationUnit(tkcirc)\n",
    "print(PauliSimpPass.apply(cu2))\n",
    "tkcirc_after_2 = cu2.get_circ()\n",
    "print(tkcirc_after_2.n_gates)\n",
    "print(tkcirc_after_2.n_gates_of_type(OpType.CX))"
   ]
  },
  {
   "cell_type": "markdown",
   "metadata": {},
   "source": [
    "This pass took a bit longer, and has reduced the total gate count a bit more, to 418, although the CX count difference is big this time! We have reduced it by 226, to less than 47% of the original CX count."
   ]
  },
  {
   "cell_type": "markdown",
   "metadata": {},
   "source": [
    "Now, let's compose these passes and see what we get out. `SequencePass` automatically checks the preconditions and postconditions of the composite passes and verifies that the composition is valid."
   ]
  },
  {
   "cell_type": "code",
   "execution_count": 12,
   "metadata": {},
   "outputs": [
    {
     "name": "stdout",
     "output_type": "stream",
     "text": [
      "***PassType: SequencePass***\n",
      "Preconditions:\n",
      "  NoClassicalControl Predicate\n",
      "Specific Postconditions:\n",
      "  GateSet Predicate:{ U1 Measure U2 U3 CX Reset }\n",
      "  MaxTwoQubitGates Predicate\n",
      "Generic Postconditions:\n",
      "Default Postcondition: Preserve\n",
      "\n",
      "True\n",
      "353\n",
      "198\n"
     ]
    }
   ],
   "source": [
    "combo_pass = SequencePass([PauliSimpPass,SynthesiseIBMPass])\n",
    "print(combo_pass)\n",
    "cu3 = CompilationUnit(tkcirc)\n",
    "print(combo_pass.apply(cu3))\n",
    "tkcirc_after_3 = cu3.get_circ()\n",
    "print(tkcirc_after_3.n_gates)\n",
    "print(tkcirc_after_3.n_gates_of_type(OpType.CX))"
   ]
  },
  {
   "cell_type": "markdown",
   "metadata": {},
   "source": [
    "We now have only 353 total gates, and only 198 CX gates. This is still not plausibly runnable on real quantum computers, but it is much closer."
   ]
  },
  {
   "cell_type": "code",
   "execution_count": 13,
   "metadata": {},
   "outputs": [],
   "source": [
    "circuit = tkcirc_after_3"
   ]
  },
  {
   "cell_type": "markdown",
   "metadata": {},
   "source": [
    "### TODO: Backends, conversions, symbolic/partial compilation?, routing?, composition/appending circuits?"
   ]
  },
  {
   "cell_type": "code",
   "execution_count": 14,
   "metadata": {},
   "outputs": [
    {
     "name": "stdout",
     "output_type": "stream",
     "text": [
      "True\n"
     ]
    }
   ],
   "source": [
    "from pytket.backends import AerStateBackend\n",
    "backend = AerStateBackend()\n",
    "print(backend.valid_circuit(circuit))"
   ]
  },
  {
   "cell_type": "code",
   "execution_count": 15,
   "metadata": {},
   "outputs": [
    {
     "name": "stdout",
     "output_type": "stream",
     "text": [
      "NoClassicalControl Predicate\n",
      "NoFastFeedforward Predicate\n",
      "GateSet Predicate:{ Z X Unitary1qBox Y Unitary2qBox CCX U3 S SWAP U2 Sdg T Tdg noop H U1 CX CZ CU1 }\n"
     ]
    }
   ],
   "source": [
    "for pred in backend.required_predicates:\n",
    "    print(pred)"
   ]
  },
  {
   "cell_type": "markdown",
   "metadata": {},
   "source": [
    "If the circuit does not satisfy the constraints of the backend, pytket can automatically run a pass which will constrain it to do so:"
   ]
  },
  {
   "cell_type": "code",
   "execution_count": 16,
   "metadata": {},
   "outputs": [],
   "source": [
    "if not backend.valid_circuit(circuit):\n",
    "    circuit = backend.compile_circuit(circuit)\n",
    "assert(backend.valid_circuit(circuit))"
   ]
  },
  {
   "cell_type": "code",
   "execution_count": 17,
   "metadata": {},
   "outputs": [
    {
     "name": "stdout",
     "output_type": "stream",
     "text": [
      "[0.+0.j 0.+0.j 0.+0.j ... 0.+0.j 0.+0.j 0.+0.j]\n"
     ]
    }
   ],
   "source": [
    "# backend.process_circuit([circuit], n_shots=100)\n",
    "results = backend.get_state(circuit)\n",
    "print(results)\n",
    "# # results = execute(circuit, backend).result()\n",
    "# str(qubitOp.paulis[0][1].to_label())"
   ]
  },
  {
   "cell_type": "code",
   "execution_count": null,
   "metadata": {},
   "outputs": [],
   "source": []
  }
 ],
 "metadata": {
  "kernelspec": {
   "display_name": "Environment (conda_cascon)",
   "language": "python",
   "name": "conda_cascon"
  },
  "language_info": {
   "codemirror_mode": {
    "name": "ipython",
    "version": 3
   },
   "file_extension": ".py",
   "mimetype": "text/x-python",
   "name": "python",
   "nbconvert_exporter": "python",
   "pygments_lexer": "ipython3",
   "version": "3.6.9"
  }
 },
 "nbformat": 4,
 "nbformat_minor": 2
}
